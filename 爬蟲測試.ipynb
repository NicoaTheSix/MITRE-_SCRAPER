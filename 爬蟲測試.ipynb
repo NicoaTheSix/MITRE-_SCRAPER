{
 "cells": [
  {
   "cell_type": "markdown",
   "metadata": {},
   "source": [
    "# MITRE ATT&CK爬蟲"
   ]
  },
  {
   "cell_type": "markdown",
   "metadata": {},
   "source": [
    "[MITRE ATT&CK網址](https://attack.mitre.org/)"
   ]
  },
  {
   "cell_type": "code",
   "execution_count": 49,
   "metadata": {},
   "outputs": [
    {
     "name": "stdout",
     "output_type": "stream",
     "text": [
      "\n",
      "███╗   ███╗██╗████████╗██████╗ ███████╗     █████╗ ████████╗████████╗██╗    ██████╗██╗  ██╗    ███████╗ ██████╗██████╗  █████╗ ██████╗ ███████╗██████╗ \n",
      "████╗ ████║██║╚══██╔══╝██╔══██╗██╔════╝    ██╔══██╗╚══██╔══╝╚══██╔══╝██║   ██╔════╝██║ ██╔╝    ██╔════╝██╔════╝██╔══██╗██╔══██╗██╔══██╗██╔════╝██╔══██╗\n",
      "██╔████╔██║██║   ██║   ██████╔╝█████╗      ███████║   ██║      ██║████████╗██║     █████╔╝     ███████╗██║     ██████╔╝███████║██████╔╝█████╗  ██████╔╝\n",
      "██║╚██╔╝██║██║   ██║   ██╔══██╗██╔══╝      ██╔══██║   ██║      ██║██╔═██╔═╝██║     ██╔═██╗     ╚════██║██║     ██╔══██╗██╔══██║██╔═══╝ ██╔══╝  ██╔══██╗\n",
      "██║ ╚═╝ ██║██║   ██║   ██║  ██║███████╗    ██║  ██║   ██║      ██║██████║  ╚██████╗██║  ██╗    ███████║╚██████╗██║  ██║██║  ██║██║     ███████╗██║  ██║\n",
      "╚═╝     ╚═╝╚═╝   ╚═╝   ╚═╝  ╚═╝╚══════╝    ╚═╝  ╚═╝   ╚═╝      ╚═╝╚═════╝   ╚═════╝╚═╝  ╚═╝    ╚══════╝ ╚═════╝╚═╝  ╚═╝╚═╝  ╚═╝╚═╝     ╚══════╝╚═╝  ╚═╝\n",
      "                                                                                                                                                       \n",
      "\n"
     ]
    }
   ],
   "source": [
    "print(\"\"\"\n",
    "███╗   ███╗██╗████████╗██████╗ ███████╗     █████╗ ████████╗████████╗██╗    ██████╗██╗  ██╗    ███████╗ ██████╗██████╗  █████╗ ██████╗ ███████╗██████╗ \n",
    "████╗ ████║██║╚══██╔══╝██╔══██╗██╔════╝    ██╔══██╗╚══██╔══╝╚══██╔══╝██║   ██╔════╝██║ ██╔╝    ██╔════╝██╔════╝██╔══██╗██╔══██╗██╔══██╗██╔════╝██╔══██╗\n",
    "██╔████╔██║██║   ██║   ██████╔╝█████╗      ███████║   ██║      ██║████████╗██║     █████╔╝     ███████╗██║     ██████╔╝███████║██████╔╝█████╗  ██████╔╝\n",
    "██║╚██╔╝██║██║   ██║   ██╔══██╗██╔══╝      ██╔══██║   ██║      ██║██╔═██╔═╝██║     ██╔═██╗     ╚════██║██║     ██╔══██╗██╔══██║██╔═══╝ ██╔══╝  ██╔══██╗\n",
    "██║ ╚═╝ ██║██║   ██║   ██║  ██║███████╗    ██║  ██║   ██║      ██║██████║  ╚██████╗██║  ██╗    ███████║╚██████╗██║  ██║██║  ██║██║     ███████╗██║  ██║\n",
    "╚═╝     ╚═╝╚═╝   ╚═╝   ╚═╝  ╚═╝╚══════╝    ╚═╝  ╚═╝   ╚═╝      ╚═╝╚═════╝   ╚═════╝╚═╝  ╚═╝    ╚══════╝ ╚═════╝╚═╝  ╚═╝╚═╝  ╚═╝╚═╝     ╚══════╝╚═╝  ╚═╝\n",
    "                                                                                                                                                       \n",
    "\"\"\")"
   ]
  },
  {
   "cell_type": "code",
   "execution_count": null,
   "metadata": {},
   "outputs": [],
   "source": [
    "text_MITRE=\"\"\"\n",
    "███╗   ███╗██╗████████╗██████╗ ███████╗\n",
    "████╗ ████║██║╚══██╔══╝██╔══██╗██╔════╝\n",
    "██╔████╔██║██║   ██║   ██████╔╝█████╗  \n",
    "██║╚██╔╝██║██║   ██║   ██╔══██╗██╔══╝  \n",
    "██║ ╚═╝ ██║██║   ██║   ██║  ██║███████╗\n",
    "╚═╝     ╚═╝╚═╝   ╚═╝   ╚═╝  ╚═╝╚══════╝\n",
    "                                       \n",
    "\"\"\"\n",
    "text_ATTACK=\"\"\"\n",
    " █████╗ ████████╗████████╗██╗    ██████╗██╗  ██╗\n",
    "██╔══██╗╚══██╔══╝╚══██╔══╝██║   ██╔════╝██║ ██╔╝\n",
    "███████║   ██║      ██║████████╗██║     █████╔╝ \n",
    "██╔══██║   ██║      ██║██╔═██╔═╝██║     ██╔═██╗ \n",
    "██║  ██║   ██║      ██║██████║  ╚██████╗██║  ██╗\n",
    "╚═╝  ╚═╝   ╚═╝      ╚═╝╚═════╝   ╚═════╝╚═╝  ╚═╝\n",
    "                                                \n",
    "\"\"\"\n",
    "text_scraper=\"\"\"\n",
    " ________  ________  ________  ________  ________  _______   ________     \n",
    "|\\   ____\\|\\   ____\\|\\   __  \\|\\   __  \\|\\   __  \\|\\  ___ \\ |\\   __  \\    \n",
    "\\ \\  \\___|\\ \\  \\___|\\ \\  \\|\\  \\ \\  \\|\\  \\ \\  \\|\\  \\ \\   __/|\\ \\  \\|\\  \\   \n",
    " \\ \\_____  \\ \\  \\    \\ \\   _  _\\ \\   __  \\ \\   ____\\ \\  \\_|/_\\ \\   _  _\\  \n",
    "  \\|____|\\  \\ \\  \\____\\ \\  \\\\\\\\  \\\\\\\\ \\  \\ \\  \\ \\  \\___|\\ \\  \\_|\\ \\ \\  \\\\\\\\  \\| \n",
    "    ____\\_\\  \\ \\_______\\ \\__\\\\\\\\ _\\\\\\\\ \\__\\ \\__\\ \\__\\    \\ \\_______\\ \\__\\\\\\\\ _\\ \n",
    "   |\\_________\\|_______|\\|__|\\|__|\\|__|\\|__|\\|__|     \\|_______|\\|__|\\|__|\n",
    "   \\|_________|                                                           \n",
    "                                                                          \n",
    "                                                                          \n",
    "\"\"\""
   ]
  },
  {
   "cell_type": "code",
   "execution_count": null,
   "metadata": {},
   "outputs": [],
   "source": [
    "  scraper"
   ]
  },
  {
   "cell_type": "markdown",
   "metadata": {},
   "source": [
    "## 當前版本的MITRE ATT&CK爬蟲"
   ]
  },
  {
   "cell_type": "code",
   "execution_count": 17,
   "metadata": {},
   "outputs": [
    {
     "data": {
      "text/plain": [
       "True"
      ]
     },
     "execution_count": 17,
     "metadata": {},
     "output_type": "execute_result"
    }
   ],
   "source": [
    "path_base=os.getcwdb()\n",
    "path_base\n",
    "os.path.isdir(os.getcwd())"
   ]
  },
  {
   "cell_type": "code",
   "execution_count": 40,
   "metadata": {},
   "outputs": [
    {
     "data": {
      "text/plain": [
       "str"
      ]
     },
     "execution_count": 40,
     "metadata": {},
     "output_type": "execute_result"
    }
   ],
   "source": [
    "type(os.getcwd())"
   ]
  },
  {
   "cell_type": "code",
   "execution_count": 5,
   "metadata": {},
   "outputs": [],
   "source": [
    "import requests\n",
    "from bs4 import BeautifulSoup\n",
    "import os\n",
    "url_main_page_MIITREATTACK='https://attack.mitre.org/'\n",
    "website_main_page_MITREATTACK=requests.get(url_main_page_MIITREATTACK)"
   ]
  },
  {
   "cell_type": "code",
   "execution_count": 21,
   "metadata": {},
   "outputs": [],
   "source": [
    "soup =BeautifulSoup(website_main_page_MITREATTACK.text,\"html.parser\")\n",
    "list_element_tactic=soup.findAll(class_=\"tactic name\")"
   ]
  },
  {
   "cell_type": "code",
   "execution_count": 23,
   "metadata": {},
   "outputs": [
    {
     "data": {
      "text/plain": [
       "'Reconnaissance'"
      ]
     },
     "execution_count": 23,
     "metadata": {},
     "output_type": "execute_result"
    }
   ],
   "source": [
    "list_element_tactic[0].text"
   ]
  },
  {
   "cell_type": "markdown",
   "metadata": {},
   "source": [
    "## 先前版本的MITRE ATT&CK爬蟲"
   ]
  },
  {
   "cell_type": "markdown",
   "metadata": {},
   "source": [
    "- [版本紀錄](https://attack.mitre.org/resources/versions/)\n",
    "先前的MITRE ATT&CK的版本從v3到v15是有網址的，而v1、v2並沒有提供網址。"
   ]
  },
  {
   "cell_type": "code",
   "execution_count": 34,
   "metadata": {},
   "outputs": [
    {
     "name": "stdout",
     "output_type": "stream",
     "text": [
      "https://attack.mitre.org/versions/v3/\n"
     ]
    }
   ],
   "source": [
    "\n",
    "number=3\n",
    "url_main_page_MIITREATTACK=f'https://attack.mitre.org/versions/v{number}/'\n",
    "print(url_main_page_MIITREATTACK)\n",
    "website_main_page_MITREATTACK=requests.get(url_MIITREATTACK_main_page)"
   ]
  },
  {
   "cell_type": "code",
   "execution_count": null,
   "metadata": {},
   "outputs": [],
   "source": [
    "\n",
    "path_old_version=os.path.join(path_base,\"data\",\"versions\")"
   ]
  },
  {
   "cell_type": "code",
   "execution_count": null,
   "metadata": {},
   "outputs": [
    {
     "ename": "TypeError",
     "evalue": "Can't mix strings and bytes in path components",
     "output_type": "error",
     "traceback": [
      "\u001b[1;31m---------------------------------------------------------------------------\u001b[0m",
      "\u001b[1;31mTypeError\u001b[0m                                 Traceback (most recent call last)",
      "Cell \u001b[1;32mIn[29], line 4\u001b[0m\n\u001b[0;32m      2\u001b[0m url_main_page_MIITREATTACK\u001b[38;5;241m=\u001b[39m\u001b[38;5;124mf\u001b[39m\u001b[38;5;124m'\u001b[39m\u001b[38;5;124mhttps://attack.mitre.org/versions/\u001b[39m\u001b[38;5;132;01m{\u001b[39;00mnumber\u001b[38;5;132;01m}\u001b[39;00m\u001b[38;5;124m/\u001b[39m\u001b[38;5;124m'\u001b[39m\n\u001b[0;32m      3\u001b[0m website_main_page_MITREATTACK\u001b[38;5;241m=\u001b[39mrequests\u001b[38;5;241m.\u001b[39mget(url_MIITREATTACK_main_page)\n\u001b[1;32m----> 4\u001b[0m path_old_version\u001b[38;5;241m=\u001b[39m\u001b[43mos\u001b[49m\u001b[38;5;241;43m.\u001b[39;49m\u001b[43mpath\u001b[49m\u001b[38;5;241;43m.\u001b[39;49m\u001b[43mjoin\u001b[49m\u001b[43m(\u001b[49m\u001b[43mpath_base\u001b[49m\u001b[43m,\u001b[49m\u001b[38;5;124;43m\"\u001b[39;49m\u001b[38;5;124;43mdata\u001b[39;49m\u001b[38;5;124;43m\"\u001b[39;49m\u001b[43m,\u001b[49m\u001b[38;5;124;43m\"\u001b[39;49m\u001b[38;5;124;43mversions\u001b[39;49m\u001b[38;5;124;43m\"\u001b[39;49m\u001b[43m)\u001b[49m\n\u001b[0;32m      6\u001b[0m     \u001b[38;5;66;03m##\u001b[39;00m\n",
      "File \u001b[1;32mc:\\Users\\nick5\\anaconda3\\lib\\ntpath.py:117\u001b[0m, in \u001b[0;36mjoin\u001b[1;34m(path, *paths)\u001b[0m\n\u001b[0;32m    115\u001b[0m     \u001b[38;5;28;01mreturn\u001b[39;00m result_drive \u001b[38;5;241m+\u001b[39m result_path\n\u001b[0;32m    116\u001b[0m \u001b[38;5;28;01mexcept\u001b[39;00m (\u001b[38;5;167;01mTypeError\u001b[39;00m, \u001b[38;5;167;01mAttributeError\u001b[39;00m, \u001b[38;5;167;01mBytesWarning\u001b[39;00m):\n\u001b[1;32m--> 117\u001b[0m     \u001b[43mgenericpath\u001b[49m\u001b[38;5;241;43m.\u001b[39;49m\u001b[43m_check_arg_types\u001b[49m\u001b[43m(\u001b[49m\u001b[38;5;124;43m'\u001b[39;49m\u001b[38;5;124;43mjoin\u001b[39;49m\u001b[38;5;124;43m'\u001b[39;49m\u001b[43m,\u001b[49m\u001b[43m \u001b[49m\u001b[43mpath\u001b[49m\u001b[43m,\u001b[49m\u001b[43m \u001b[49m\u001b[38;5;241;43m*\u001b[39;49m\u001b[43mpaths\u001b[49m\u001b[43m)\u001b[49m\n\u001b[0;32m    118\u001b[0m     \u001b[38;5;28;01mraise\u001b[39;00m\n",
      "File \u001b[1;32mc:\\Users\\nick5\\anaconda3\\lib\\genericpath.py:155\u001b[0m, in \u001b[0;36m_check_arg_types\u001b[1;34m(funcname, *args)\u001b[0m\n\u001b[0;32m    152\u001b[0m         \u001b[38;5;28;01mraise\u001b[39;00m \u001b[38;5;167;01mTypeError\u001b[39;00m(\u001b[38;5;124mf\u001b[39m\u001b[38;5;124m'\u001b[39m\u001b[38;5;132;01m{\u001b[39;00mfuncname\u001b[38;5;132;01m}\u001b[39;00m\u001b[38;5;124m() argument must be str, bytes, or \u001b[39m\u001b[38;5;124m'\u001b[39m\n\u001b[0;32m    153\u001b[0m                         \u001b[38;5;124mf\u001b[39m\u001b[38;5;124m'\u001b[39m\u001b[38;5;124mos.PathLike object, not \u001b[39m\u001b[38;5;132;01m{\u001b[39;00ms\u001b[38;5;241m.\u001b[39m\u001b[38;5;18m__class__\u001b[39m\u001b[38;5;241m.\u001b[39m\u001b[38;5;18m__name__\u001b[39m\u001b[38;5;132;01m!r}\u001b[39;00m\u001b[38;5;124m'\u001b[39m) \u001b[38;5;28;01mfrom\u001b[39;00m \u001b[38;5;28;01mNone\u001b[39;00m\n\u001b[0;32m    154\u001b[0m \u001b[38;5;28;01mif\u001b[39;00m hasstr \u001b[38;5;129;01mand\u001b[39;00m hasbytes:\n\u001b[1;32m--> 155\u001b[0m     \u001b[38;5;28;01mraise\u001b[39;00m \u001b[38;5;167;01mTypeError\u001b[39;00m(\u001b[38;5;124m\"\u001b[39m\u001b[38;5;124mCan\u001b[39m\u001b[38;5;124m'\u001b[39m\u001b[38;5;124mt mix strings and bytes in path components\u001b[39m\u001b[38;5;124m\"\u001b[39m) \u001b[38;5;28;01mfrom\u001b[39;00m \u001b[38;5;28;01mNone\u001b[39;00m\n",
      "\u001b[1;31mTypeError\u001b[0m: Can't mix strings and bytes in path components"
     ]
    }
   ],
   "source": [
    "\n",
    "\n",
    "    #    "
   ]
  },
  {
   "cell_type": "code",
   "execution_count": 43,
   "metadata": {},
   "outputs": [
    {
     "name": "stdout",
     "output_type": "stream",
     "text": [
      "https://attack.mitre.org/versions/v3/\n",
      "https://attack.mitre.org/versions/v3/\n",
      "https://attack.mitre.org/versions/v4/\n",
      "https://attack.mitre.org/versions/v5/\n",
      "https://attack.mitre.org/versions/v6/\n",
      "https://attack.mitre.org/versions/v7/\n",
      "https://attack.mitre.org/versions/v8/\n",
      "https://attack.mitre.org/versions/v9/\n",
      "https://attack.mitre.org/versions/v10/\n",
      "https://attack.mitre.org/versions/v11/\n",
      "https://attack.mitre.org/versions/v12/\n",
      "https://attack.mitre.org/versions/v13/\n",
      "https://attack.mitre.org/versions/v14/\n"
     ]
    }
   ],
   "source": [
    "\n",
    "number=3\n",
    "for version in range(3,16):    \n",
    "    url_main_page_MIITREATTACK=f'https://attack.mitre.org/versions/v{number}/'\n",
    "    number=version\n",
    "    website_main_page_MITREATTACK=requests.get(url_MIITREATTACK_main_page)\n",
    "    #print(version)\n",
    "    print(url_main_page_MIITREATTACK)\n",
    "    with open(os.path.join(os.getcwd(),\"data\",\"versions\",f\"html_mainpage{number}\"),\"w\",encoding='utf-8')as html_mainpage:\n",
    "        html_mainpage.write(website_main_page_MITREATTACK.text)\n",
    "    "
   ]
  },
  {
   "cell_type": "code",
   "execution_count": null,
   "metadata": {},
   "outputs": [],
   "source": [
    "option_=\n",
    "def tactic_scraper():\n",
    "    return\n",
    "def technique_scraper():\n",
    "    return\n",
    "def procedureexample_scraper():\n",
    "    return\n",
    "def group_scraper():\n",
    "    return\n",
    "def software_scraper():\n",
    "    return\n",
    "def campaign_scraper():\n",
    "    return"
   ]
  }
 ],
 "metadata": {
  "kernelspec": {
   "display_name": "base",
   "language": "python",
   "name": "python3"
  },
  "language_info": {
   "codemirror_mode": {
    "name": "ipython",
    "version": 3
   },
   "file_extension": ".py",
   "mimetype": "text/x-python",
   "name": "python",
   "nbconvert_exporter": "python",
   "pygments_lexer": "ipython3",
   "version": "3.9.19"
  }
 },
 "nbformat": 4,
 "nbformat_minor": 2
}
