{
 "cells": [
  {
   "cell_type": "markdown",
   "metadata": {},
   "source": [
    "# MITRE ATT&CK爬蟲"
   ]
  },
  {
   "cell_type": "markdown",
   "metadata": {},
   "source": [
    "[MITRE ATT&CK網址](https://attack.mitre.org/)"
   ]
  },
  {
   "cell_type": "code",
   "execution_count": 49,
   "metadata": {},
   "outputs": [
    {
     "name": "stdout",
     "output_type": "stream",
     "text": [
      "\n",
      "███╗   ███╗██╗████████╗██████╗ ███████╗     █████╗ ████████╗████████╗██╗    ██████╗██╗  ██╗    ███████╗ ██████╗██████╗  █████╗ ██████╗ ███████╗██████╗ \n",
      "████╗ ████║██║╚══██╔══╝██╔══██╗██╔════╝    ██╔══██╗╚══██╔══╝╚══██╔══╝██║   ██╔════╝██║ ██╔╝    ██╔════╝██╔════╝██╔══██╗██╔══██╗██╔══██╗██╔════╝██╔══██╗\n",
      "██╔████╔██║██║   ██║   ██████╔╝█████╗      ███████║   ██║      ██║████████╗██║     █████╔╝     ███████╗██║     ██████╔╝███████║██████╔╝█████╗  ██████╔╝\n",
      "██║╚██╔╝██║██║   ██║   ██╔══██╗██╔══╝      ██╔══██║   ██║      ██║██╔═██╔═╝██║     ██╔═██╗     ╚════██║██║     ██╔══██╗██╔══██║██╔═══╝ ██╔══╝  ██╔══██╗\n",
      "██║ ╚═╝ ██║██║   ██║   ██║  ██║███████╗    ██║  ██║   ██║      ██║██████║  ╚██████╗██║  ██╗    ███████║╚██████╗██║  ██║██║  ██║██║     ███████╗██║  ██║\n",
      "╚═╝     ╚═╝╚═╝   ╚═╝   ╚═╝  ╚═╝╚══════╝    ╚═╝  ╚═╝   ╚═╝      ╚═╝╚═════╝   ╚═════╝╚═╝  ╚═╝    ╚══════╝ ╚═════╝╚═╝  ╚═╝╚═╝  ╚═╝╚═╝     ╚══════╝╚═╝  ╚═╝\n",
      "                                                                                                                                                       \n",
      "\n"
     ]
    }
   ],
   "source": [
    "print(\"\"\"\n",
    "███╗   ███╗██╗████████╗██████╗ ███████╗     █████╗ ████████╗████████╗██╗    ██████╗██╗  ██╗    ███████╗ ██████╗██████╗  █████╗ ██████╗ ███████╗██████╗ \n",
    "████╗ ████║██║╚══██╔══╝██╔══██╗██╔════╝    ██╔══██╗╚══██╔══╝╚══██╔══╝██║   ██╔════╝██║ ██╔╝    ██╔════╝██╔════╝██╔══██╗██╔══██╗██╔══██╗██╔════╝██╔══██╗\n",
    "██╔████╔██║██║   ██║   ██████╔╝█████╗      ███████║   ██║      ██║████████╗██║     █████╔╝     ███████╗██║     ██████╔╝███████║██████╔╝█████╗  ██████╔╝\n",
    "██║╚██╔╝██║██║   ██║   ██╔══██╗██╔══╝      ██╔══██║   ██║      ██║██╔═██╔═╝██║     ██╔═██╗     ╚════██║██║     ██╔══██╗██╔══██║██╔═══╝ ██╔══╝  ██╔══██╗\n",
    "██║ ╚═╝ ██║██║   ██║   ██║  ██║███████╗    ██║  ██║   ██║      ██║██████║  ╚██████╗██║  ██╗    ███████║╚██████╗██║  ██║██║  ██║██║     ███████╗██║  ██║\n",
    "╚═╝     ╚═╝╚═╝   ╚═╝   ╚═╝  ╚═╝╚══════╝    ╚═╝  ╚═╝   ╚═╝      ╚═╝╚═════╝   ╚═════╝╚═╝  ╚═╝    ╚══════╝ ╚═════╝╚═╝  ╚═╝╚═╝  ╚═╝╚═╝     ╚══════╝╚═╝  ╚═╝\n",
    "                                                                                                                                                       \n",
    "\"\"\")"
   ]
  },
  {
   "cell_type": "code",
   "execution_count": 55,
   "metadata": {},
   "outputs": [],
   "source": [
    "text_MITRE=\"\"\"\n",
    "███╗   ███╗██╗████████╗██████╗ ███████╗\n",
    "████╗ ████║██║╚══██╔══╝██╔══██╗██╔════╝\n",
    "██╔████╔██║██║   ██║   ██████╔╝█████╗  \n",
    "██║╚██╔╝██║██║   ██║   ██╔══██╗██╔══╝  \n",
    "██║ ╚═╝ ██║██║   ██║   ██║  ██║███████╗\n",
    "╚═╝     ╚═╝╚═╝   ╚═╝   ╚═╝  ╚═╝╚══════╝\n",
    "                                       \n",
    "\"\"\"\n",
    "text_ATTACK=\"\"\"\n",
    " █████╗ ████████╗████████╗██╗    ██████╗██╗  ██╗\n",
    "██╔══██╗╚══██╔══╝╚══██╔══╝██║   ██╔════╝██║ ██╔╝\n",
    "███████║   ██║      ██║████████╗██║     █████╔╝ \n",
    "██╔══██║   ██║      ██║██╔═██╔═╝██║     ██╔═██╗ \n",
    "██║  ██║   ██║      ██║██████║  ╚██████╗██║  ██╗\n",
    "╚═╝  ╚═╝   ╚═╝      ╚═╝╚═════╝   ╚═════╝╚═╝  ╚═╝\n",
    "                                                \n",
    "\"\"\"\n",
    "text_scraper=\"\"\"\n",
    "███████╗ ██████╗██████╗  █████╗ ██████╗ ███████╗██████╗ \n",
    "██╔════╝██╔════╝██╔══██╗██╔══██╗██╔══██╗██╔════╝██╔══██╗\n",
    "███████╗██║     ██████╔╝███████║██████╔╝█████╗  ██████╔╝\n",
    "╚════██║██║     ██╔══██╗██╔══██║██╔═══╝ ██╔══╝  ██╔══██╗\n",
    "███████║╚██████╗██║  ██║██║  ██║██║     ███████╗██║  ██║\n",
    "╚══════╝ ╚═════╝╚═╝  ╚═╝╚═╝  ╚═╝╚═╝     ╚══════╝╚═╝  ╚═╝\n",
    "                                                        \n",
    "                                                                                                                                             \n",
    "\"\"\""
   ]
  },
  {
   "cell_type": "code",
   "execution_count": 56,
   "metadata": {},
   "outputs": [
    {
     "name": "stdout",
     "output_type": "stream",
     "text": [
      "\n",
      "███╗   ███╗██╗████████╗██████╗ ███████╗\n",
      "████╗ ████║██║╚══██╔══╝██╔══██╗██╔════╝\n",
      "██╔████╔██║██║   ██║   ██████╔╝█████╗  \n",
      "██║╚██╔╝██║██║   ██║   ██╔══██╗██╔══╝  \n",
      "██║ ╚═╝ ██║██║   ██║   ██║  ██║███████╗\n",
      "╚═╝     ╚═╝╚═╝   ╚═╝   ╚═╝  ╚═╝╚══════╝\n",
      "                                       \n",
      "\n",
      "\n",
      " █████╗ ████████╗████████╗██╗    ██████╗██╗  ██╗\n",
      "██╔══██╗╚══██╔══╝╚══██╔══╝██║   ██╔════╝██║ ██╔╝\n",
      "███████║   ██║      ██║████████╗██║     █████╔╝ \n",
      "██╔══██║   ██║      ██║██╔═██╔═╝██║     ██╔═██╗ \n",
      "██║  ██║   ██║      ██║██████║  ╚██████╗██║  ██╗\n",
      "╚═╝  ╚═╝   ╚═╝      ╚═╝╚═════╝   ╚═════╝╚═╝  ╚═╝\n",
      "                                                \n",
      "\n",
      "\n",
      "███████╗ ██████╗██████╗  █████╗ ██████╗ ███████╗██████╗ \n",
      "██╔════╝██╔════╝██╔══██╗██╔══██╗██╔══██╗██╔════╝██╔══██╗\n",
      "███████╗██║     ██████╔╝███████║██████╔╝█████╗  ██████╔╝\n",
      "╚════██║██║     ██╔══██╗██╔══██║██╔═══╝ ██╔══╝  ██╔══██╗\n",
      "███████║╚██████╗██║  ██║██║  ██║██║     ███████╗██║  ██║\n",
      "╚══════╝ ╚═════╝╚═╝  ╚═╝╚═╝  ╚═╝╚═╝     ╚══════╝╚═╝  ╚═╝\n",
      "                                                        \n",
      "                                                                                                                                             \n",
      "\n"
     ]
    }
   ],
   "source": [
    "\n",
    "print(text_MITRE)\n",
    "print(text_ATTACK)\n",
    "print(text_scraper)"
   ]
  },
  {
   "cell_type": "markdown",
   "metadata": {},
   "source": [
    "## 當前版本的MITRE ATT&CK爬蟲"
   ]
  },
  {
   "cell_type": "code",
   "execution_count": 17,
   "metadata": {},
   "outputs": [
    {
     "data": {
      "text/plain": [
       "True"
      ]
     },
     "execution_count": 17,
     "metadata": {},
     "output_type": "execute_result"
    }
   ],
   "source": [
    "path_base=os.getcwdb()\n",
    "path_base\n",
    "os.path.isdir(os.getcwd())"
   ]
  },
  {
   "cell_type": "code",
   "execution_count": 40,
   "metadata": {},
   "outputs": [
    {
     "data": {
      "text/plain": [
       "str"
      ]
     },
     "execution_count": 40,
     "metadata": {},
     "output_type": "execute_result"
    }
   ],
   "source": [
    "type(os.getcwd())"
   ]
  },
  {
   "cell_type": "code",
   "execution_count": 5,
   "metadata": {},
   "outputs": [],
   "source": [
    "import requests\n",
    "from bs4 import BeautifulSoup\n",
    "import os\n",
    "url_main_page_MIITREATTACK='https://attack.mitre.org/'\n",
    "website_main_page_MITREATTACK=requests.get(url_main_page_MIITREATTACK)"
   ]
  },
  {
   "cell_type": "code",
   "execution_count": 21,
   "metadata": {},
   "outputs": [],
   "source": [
    "soup =BeautifulSoup(website_main_page_MITREATTACK.text,\"html.parser\")\n",
    "list_element_tactic=soup.findAll(class_=\"tactic name\")"
   ]
  },
  {
   "cell_type": "code",
   "execution_count": 23,
   "metadata": {},
   "outputs": [
    {
     "data": {
      "text/plain": [
       "'Reconnaissance'"
      ]
     },
     "execution_count": 23,
     "metadata": {},
     "output_type": "execute_result"
    }
   ],
   "source": [
    "list_element_tactic[0].text"
   ]
  },
  {
   "cell_type": "markdown",
   "metadata": {},
   "source": [
    "## 先前版本的MITRE ATT&CK爬蟲"
   ]
  },
  {
   "cell_type": "markdown",
   "metadata": {},
   "source": [
    "- [版本紀錄](https://attack.mitre.org/resources/versions/)\n",
    "先前的MITRE ATT&CK的版本從v3到v15是有網址的，而v1、v2並沒有提供網址。"
   ]
  },
  {
   "cell_type": "code",
   "execution_count": 57,
   "metadata": {},
   "outputs": [
    {
     "name": "stdout",
     "output_type": "stream",
     "text": [
      "https://attack.mitre.org\n"
     ]
    }
   ],
   "source": [
    "\n",
    "url_main_page_MIITREATTACK=f'https://attack.mitre.org'\n",
    "print(url_main_page_MIITREATTACK)\n",
    "website_main_page_MITREATTACK=requests.get(url_MIITREATTACK_main_page)\n",
    "with open(os.path.join(os.getcwd(),\"data\",f\"html_mainpage\"),\"w\",encoding='utf-8')as html_mainpage:\n",
    "    html_mainpage.write(website_main_page_MITREATTACK.text)"
   ]
  },
  {
   "cell_type": "code",
   "execution_count": 43,
   "metadata": {},
   "outputs": [
    {
     "name": "stdout",
     "output_type": "stream",
     "text": [
      "https://attack.mitre.org/versions/v3/\n",
      "https://attack.mitre.org/versions/v3/\n",
      "https://attack.mitre.org/versions/v4/\n",
      "https://attack.mitre.org/versions/v5/\n",
      "https://attack.mitre.org/versions/v6/\n",
      "https://attack.mitre.org/versions/v7/\n",
      "https://attack.mitre.org/versions/v8/\n",
      "https://attack.mitre.org/versions/v9/\n",
      "https://attack.mitre.org/versions/v10/\n",
      "https://attack.mitre.org/versions/v11/\n",
      "https://attack.mitre.org/versions/v12/\n",
      "https://attack.mitre.org/versions/v13/\n",
      "https://attack.mitre.org/versions/v14/\n"
     ]
    }
   ],
   "source": [
    "\n",
    "number=3\n",
    "for version in range(3,16):    \n",
    "    url_main_page_MIITREATTACK=f'https://attack.mitre.org/versions/v{number}/'\n",
    "    number=version\n",
    "    website_main_page_MITREATTACK=requests.get(url_MIITREATTACK_main_page)\n",
    "    #print(version)\n",
    "    print(url_main_page_MIITREATTACK)\n",
    "    with open(os.path.join(os.getcwd(),\"data\",\"versions\",f\"html_mainpage{number}\"),\"w\",encoding='utf-8')as html_mainpage:\n",
    "        html_mainpage.write(website_main_page_MITREATTACK.text)\n",
    "    "
   ]
  },
  {
   "cell_type": "code",
   "execution_count": null,
   "metadata": {},
   "outputs": [],
   "source": [
    "option_=\n",
    "def tactic_scraper():\n",
    "    return\n",
    "def technique_scraper():\n",
    "    return\n",
    "def procedureexample_scraper():\n",
    "    return\n",
    "def group_scraper():\n",
    "    return\n",
    "def software_scraper():\n",
    "    return\n",
    "def campaign_scraper():\n",
    "    return"
   ]
  }
 ],
 "metadata": {
  "kernelspec": {
   "display_name": "base",
   "language": "python",
   "name": "python3"
  },
  "language_info": {
   "codemirror_mode": {
    "name": "ipython",
    "version": 3
   },
   "file_extension": ".py",
   "mimetype": "text/x-python",
   "name": "python",
   "nbconvert_exporter": "python",
   "pygments_lexer": "ipython3",
   "version": "3.9.19"
  }
 },
 "nbformat": 4,
 "nbformat_minor": 2
}
